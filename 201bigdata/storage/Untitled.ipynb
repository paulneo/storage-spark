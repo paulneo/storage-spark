{
 "cells": [
  {
   "cell_type": "code",
   "execution_count": 1,
   "metadata": {
    "scrolled": false
   },
   "outputs": [
    {
     "data": {
      "text/html": [
       "\n",
       "        <div>\n",
       "            <p><b>SparkContext</b></p>\n",
       "\n",
       "            <p><a href=\"http://localhost:4040\">Spark UI</a></p>\n",
       "\n",
       "            <dl>\n",
       "              <dt>Version</dt>\n",
       "                <dd><code>v2.4.5</code></dd>\n",
       "              <dt>Master</dt>\n",
       "                <dd><code>local[*]</code></dd>\n",
       "              <dt>AppName</dt>\n",
       "                <dd><code>PySparkShell</code></dd>\n",
       "            </dl>\n",
       "        </div>\n",
       "        "
      ],
      "text/plain": [
       "<SparkContext master=local[*] appName=PySparkShell>"
      ]
     },
     "execution_count": 1,
     "metadata": {},
     "output_type": "execute_result"
    }
   ],
   "source": [
    "#Jean Paul\n",
    "sc"
   ]
  },
  {
   "cell_type": "code",
   "execution_count": 2,
   "metadata": {},
   "outputs": [
    {
     "name": "stdout",
     "output_type": "stream",
     "text": [
      "+------+----------+\n",
      "|Fam_id|   Nom_fam|\n",
      "+------+----------+\n",
      "|     1|  TABLETAS|\n",
      "|     2|INYECTABLE|\n",
      "|     3|SUSPENSION|\n",
      "+------+----------+\n",
      "\n"
     ]
    }
   ],
   "source": [
    "# db origen configs\n",
    "hostname = \"127.0.0.1\" \n",
    "dbname = \"farmadb\"\n",
    "jdbcPort = 3306\n",
    "username = \"root\"\n",
    "password = \"12345\"\n",
    "jdbc_url = \"jdbc:mysql://{0}:{1}/{2}?user={3}&password={4}\"\\\n",
    "            .format(hostname, jdbcPort, dbname, username, password)\n",
    "\n",
    "query = \"(select * from FAMILIA) t1_alias\"\n",
    "df1 = sqlContext.read.format('jdbc')\\\n",
    "    .options(driver = 'com.mysql.jdbc.Driver', url=jdbc_url, dbtable=query)\\\n",
    "    .load()\n",
    "df1.show()"
   ]
  },
  {
   "cell_type": "code",
   "execution_count": 3,
   "metadata": {},
   "outputs": [],
   "source": [
    "#df1.createOrReplaceTempView(\"mytable\") \n",
    "#df2 = spark.sql(\"SELECT * from mytable \") \n",
    "#df2.show()"
   ]
  },
  {
   "cell_type": "code",
   "execution_count": 4,
   "metadata": {},
   "outputs": [],
   "source": [
    "# db destino condigs\n",
    "url = \"jdbc:mysql://localhost/farmadb\"\n",
    "properties = {\n",
    "    \"driver\": \"com.mysql.jdbc.Driver\",\n",
    "    \"user\": \"root\",\n",
    "    \"password\": \"12345\"\n",
    "}"
   ]
  },
  {
   "cell_type": "code",
   "execution_count": 5,
   "metadata": {},
   "outputs": [],
   "source": [
    "#tabla_db = \"familia\"\n",
    "#xdf = sqlContext.read.jdbc(url=url,\\\n",
    "#    table=tabla_db, \\\n",
    "#    properties=properties)\n",
    "#xdf.show()"
   ]
  },
  {
   "cell_type": "code",
   "execution_count": 6,
   "metadata": {},
   "outputs": [],
   "source": [
    "mode = \"overwrite\"\n",
    "df1.write.jdbc(url=url, table=\"fam_dep\", mode=mode, properties=properties)"
   ]
  },
  {
   "cell_type": "code",
   "execution_count": 7,
   "metadata": {},
   "outputs": [],
   "source": [
    "#mode2\n",
    "#df1.write.format(\"jdbc\")\\\n",
    "#    .option(\"dbtable\", \"mytable4\")\\\n",
    "#    .options(driver = 'com.mysql.jdbc.Driver', url=jdbc_url).load(mode=mode)"
   ]
  },
  {
   "cell_type": "code",
   "execution_count": 8,
   "metadata": {},
   "outputs": [],
   "source": [
    "#driver=\"com.mysql.jdbc.Driver\"\n",
    "#df1.write.format(\"jdbc\")\\\n",
    "#    .option(\"url\", url)\\\n",
    "#    .option(\"dbtable\", \"mytable3\")\\\n",
    "#    .option(**properties)\\\n",
    "#    .option(\"driver\", driver)\\\n",
    "#    .load(mode=mode)"
   ]
  },
  {
   "cell_type": "code",
   "execution_count": 9,
   "metadata": {},
   "outputs": [
    {
     "data": {
      "text/plain": [
       "ParallelCollectionRDD[11] at parallelize at PythonRDD.scala:195"
      ]
     },
     "execution_count": 9,
     "metadata": {},
     "output_type": "execute_result"
    }
   ],
   "source": [
    "x = sc.parallelize([(\"a\", 1), (\"b\", 4)])\n",
    "x.collect()\n",
    "x"
   ]
  },
  {
   "cell_type": "code",
   "execution_count": 10,
   "metadata": {
    "scrolled": true
   },
   "outputs": [
    {
     "name": "stdout",
     "output_type": "stream",
     "text": [
      "+--------+---------+\n",
      "|Keywords|Frequency|\n",
      "+--------+---------+\n",
      "|       a|        1|\n",
      "|       b|        4|\n",
      "+--------+---------+\n",
      "\n"
     ]
    }
   ],
   "source": [
    "dfx = x.toDF([\"Keywords\",\"Frequency\"])\n",
    "dfx.show()"
   ]
  },
  {
   "cell_type": "code",
   "execution_count": 11,
   "metadata": {},
   "outputs": [],
   "source": [
    "mode = \"overwrite\"\n",
    "dfx.write.jdbc(url=url, table=\"tb_score\", mode=mode, properties=properties)"
   ]
  },
  {
   "cell_type": "code",
   "execution_count": null,
   "metadata": {},
   "outputs": [],
   "source": []
  }
 ],
 "metadata": {
  "kernelspec": {
   "display_name": "Python 3",
   "language": "python",
   "name": "python3"
  },
  "language_info": {
   "codemirror_mode": {
    "name": "ipython",
    "version": 3
   },
   "file_extension": ".py",
   "mimetype": "text/x-python",
   "name": "python",
   "nbconvert_exporter": "python",
   "pygments_lexer": "ipython3",
   "version": "3.7.6"
  }
 },
 "nbformat": 4,
 "nbformat_minor": 4
}
